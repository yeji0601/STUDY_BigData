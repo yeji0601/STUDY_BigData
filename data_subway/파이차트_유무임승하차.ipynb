{
 "cells": [
  {
   "cell_type": "code",
   "execution_count": null,
   "metadata": {},
   "outputs": [],
   "source": [
    "import csv\n",
    "import matplotlib.pyplot as plt\n",
    "f=open('subwayfee.CSV','r',encoding='cp949')\n",
    "data=csv.reader(f)\n",
    "next(data)\n",
    "mx=[0]*4\n",
    "mx_station=['']*4\n",
    "label=['유임승차','유임하차','무임승차','무임하차']\n",
    "c=['green','blue','gold','red']\n",
    "plt.rc('font', family ='Malgun Gothic')\n",
    "\n",
    "#역별 유무임 승차 비율 시각화\n",
    "#추후 호선별로 수정 예정\n",
    "for row in data:\n",
    "    for i in range(4,8):\n",
    "        row[i]=int(row[i])\n",
    "        plt.figure(dpi=300)\n",
    "        plt.title(row[3]+' '+row[1])\n",
    "        plt.pie(row[4:8], labels = label, colors =c, autopct ='%1.f&&')\n",
    "        plt.axis('equal')\n",
    "        #plt.savefig(row[3]+' '+row[1]+'.png')\n",
    "        plt.show()"
   ]
  }
 ],
 "metadata": {
  "kernelspec": {
   "display_name": "Python 3",
   "language": "python",
   "name": "python3"
  },
  "language_info": {
   "codemirror_mode": {
    "name": "ipython",
    "version": 3
   },
   "file_extension": ".py",
   "mimetype": "text/x-python",
   "name": "python",
   "nbconvert_exporter": "python",
   "pygments_lexer": "ipython3",
   "version": "3.8.5"
  }
 },
 "nbformat": 4,
 "nbformat_minor": 4
}
